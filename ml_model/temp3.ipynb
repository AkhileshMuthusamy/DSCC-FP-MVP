{
 "cells": [
  {
   "cell_type": "code",
   "execution_count": 2,
   "metadata": {},
   "outputs": [],
   "source": [
    "from prophet import Prophet\n",
    "import pandas as pd"
   ]
  },
  {
   "cell_type": "code",
   "execution_count": 12,
   "metadata": {},
   "outputs": [
    {
     "data": {
      "text/html": [
       "<div>\n",
       "<style scoped>\n",
       "    .dataframe tbody tr th:only-of-type {\n",
       "        vertical-align: middle;\n",
       "    }\n",
       "\n",
       "    .dataframe tbody tr th {\n",
       "        vertical-align: top;\n",
       "    }\n",
       "\n",
       "    .dataframe thead th {\n",
       "        text-align: right;\n",
       "    }\n",
       "</style>\n",
       "<table border=\"1\" class=\"dataframe\">\n",
       "  <thead>\n",
       "    <tr style=\"text-align: right;\">\n",
       "      <th></th>\n",
       "      <th>Date</th>\n",
       "      <th>Open</th>\n",
       "      <th>High</th>\n",
       "      <th>Low</th>\n",
       "      <th>Close</th>\n",
       "      <th>Adj Close</th>\n",
       "      <th>Volume</th>\n",
       "    </tr>\n",
       "  </thead>\n",
       "  <tbody>\n",
       "    <tr>\n",
       "      <th>0</th>\n",
       "      <td>2020-01-02</td>\n",
       "      <td>74.059998</td>\n",
       "      <td>75.150002</td>\n",
       "      <td>73.797501</td>\n",
       "      <td>75.087502</td>\n",
       "      <td>73.894325</td>\n",
       "      <td>135480400</td>\n",
       "    </tr>\n",
       "    <tr>\n",
       "      <th>1</th>\n",
       "      <td>2020-01-03</td>\n",
       "      <td>74.287498</td>\n",
       "      <td>75.144997</td>\n",
       "      <td>74.125000</td>\n",
       "      <td>74.357498</td>\n",
       "      <td>73.175926</td>\n",
       "      <td>146322800</td>\n",
       "    </tr>\n",
       "    <tr>\n",
       "      <th>2</th>\n",
       "      <td>2020-01-06</td>\n",
       "      <td>73.447502</td>\n",
       "      <td>74.989998</td>\n",
       "      <td>73.187500</td>\n",
       "      <td>74.949997</td>\n",
       "      <td>73.759003</td>\n",
       "      <td>118387200</td>\n",
       "    </tr>\n",
       "    <tr>\n",
       "      <th>3</th>\n",
       "      <td>2020-01-07</td>\n",
       "      <td>74.959999</td>\n",
       "      <td>75.224998</td>\n",
       "      <td>74.370003</td>\n",
       "      <td>74.597504</td>\n",
       "      <td>73.412132</td>\n",
       "      <td>108872000</td>\n",
       "    </tr>\n",
       "    <tr>\n",
       "      <th>4</th>\n",
       "      <td>2020-01-08</td>\n",
       "      <td>74.290001</td>\n",
       "      <td>76.110001</td>\n",
       "      <td>74.290001</td>\n",
       "      <td>75.797501</td>\n",
       "      <td>74.593040</td>\n",
       "      <td>132079200</td>\n",
       "    </tr>\n",
       "  </tbody>\n",
       "</table>\n",
       "</div>"
      ],
      "text/plain": [
       "         Date       Open       High        Low      Close  Adj Close  \\\n",
       "0  2020-01-02  74.059998  75.150002  73.797501  75.087502  73.894325   \n",
       "1  2020-01-03  74.287498  75.144997  74.125000  74.357498  73.175926   \n",
       "2  2020-01-06  73.447502  74.989998  73.187500  74.949997  73.759003   \n",
       "3  2020-01-07  74.959999  75.224998  74.370003  74.597504  73.412132   \n",
       "4  2020-01-08  74.290001  76.110001  74.290001  75.797501  74.593040   \n",
       "\n",
       "      Volume  \n",
       "0  135480400  \n",
       "1  146322800  \n",
       "2  118387200  \n",
       "3  108872000  \n",
       "4  132079200  "
      ]
     },
     "execution_count": 12,
     "metadata": {},
     "output_type": "execute_result"
    }
   ],
   "source": [
    "df = pd.read_csv('AAPL.csv')\n",
    "df.head()"
   ]
  },
  {
   "cell_type": "code",
   "execution_count": 13,
   "metadata": {},
   "outputs": [
    {
     "data": {
      "text/html": [
       "<div>\n",
       "<style scoped>\n",
       "    .dataframe tbody tr th:only-of-type {\n",
       "        vertical-align: middle;\n",
       "    }\n",
       "\n",
       "    .dataframe tbody tr th {\n",
       "        vertical-align: top;\n",
       "    }\n",
       "\n",
       "    .dataframe thead th {\n",
       "        text-align: right;\n",
       "    }\n",
       "</style>\n",
       "<table border=\"1\" class=\"dataframe\">\n",
       "  <thead>\n",
       "    <tr style=\"text-align: right;\">\n",
       "      <th></th>\n",
       "      <th>ds</th>\n",
       "      <th>y</th>\n",
       "    </tr>\n",
       "  </thead>\n",
       "  <tbody>\n",
       "    <tr>\n",
       "      <th>0</th>\n",
       "      <td>2020-01-02</td>\n",
       "      <td>75.087502</td>\n",
       "    </tr>\n",
       "    <tr>\n",
       "      <th>1</th>\n",
       "      <td>2020-01-03</td>\n",
       "      <td>74.357498</td>\n",
       "    </tr>\n",
       "    <tr>\n",
       "      <th>2</th>\n",
       "      <td>2020-01-06</td>\n",
       "      <td>74.949997</td>\n",
       "    </tr>\n",
       "    <tr>\n",
       "      <th>3</th>\n",
       "      <td>2020-01-07</td>\n",
       "      <td>74.597504</td>\n",
       "    </tr>\n",
       "    <tr>\n",
       "      <th>4</th>\n",
       "      <td>2020-01-08</td>\n",
       "      <td>75.797501</td>\n",
       "    </tr>\n",
       "  </tbody>\n",
       "</table>\n",
       "</div>"
      ],
      "text/plain": [
       "           ds          y\n",
       "0  2020-01-02  75.087502\n",
       "1  2020-01-03  74.357498\n",
       "2  2020-01-06  74.949997\n",
       "3  2020-01-07  74.597504\n",
       "4  2020-01-08  75.797501"
      ]
     },
     "execution_count": 13,
     "metadata": {},
     "output_type": "execute_result"
    }
   ],
   "source": [
    "df = df[['Date', 'Close']]\n",
    "df.rename(columns={'Date': 'ds', 'Close': 'y'}, inplace=True)\n",
    "df.head()"
   ]
  },
  {
   "cell_type": "code",
   "execution_count": 14,
   "metadata": {},
   "outputs": [
    {
     "name": "stderr",
     "output_type": "stream",
     "text": [
      "INFO:prophet:Disabling yearly seasonality. Run prophet with yearly_seasonality=True to override this.\n",
      "INFO:prophet:Disabling daily seasonality. Run prophet with daily_seasonality=True to override this.\n",
      "/home/development/python/DSCC-FP-MVP/.venv/lib/python3.8/site-packages/prophet/forecaster.py:896: FutureWarning: The frame.append method is deprecated and will be removed from pandas in a future version. Use pandas.concat instead.\n",
      "  components = components.append(new_comp)\n"
     ]
    },
    {
     "data": {
      "text/plain": [
       "<prophet.forecaster.Prophet at 0x7f52efb3f910>"
      ]
     },
     "execution_count": 14,
     "metadata": {},
     "output_type": "execute_result"
    },
    {
     "name": "stdout",
     "output_type": "stream",
     "text": [
      "Initial log joint probability = -3.39373\n",
      "    Iter      log prob        ||dx||      ||grad||       alpha      alpha0  # evals  Notes \n",
      "      99       1360.01     0.0107973       407.696      0.2609      0.5242      117   \n",
      "    Iter      log prob        ||dx||      ||grad||       alpha      alpha0  # evals  Notes \n",
      "     195        1377.6   0.000123191       97.9215   1.216e-06       0.001      267  LS failed, Hessian reset \n",
      "     199       1378.14     0.0166329       125.478           1           1      272   \n",
      "    Iter      log prob        ||dx||      ||grad||       alpha      alpha0  # evals  Notes \n",
      "     299       1384.92    0.00404172        168.69           1           1      397   \n",
      "    Iter      log prob        ||dx||      ||grad||       alpha      alpha0  # evals  Notes \n",
      "     399       1389.14     0.0116615       272.838      0.6683      0.6683      517   \n",
      "    Iter      log prob        ||dx||      ||grad||       alpha      alpha0  # evals  Notes \n",
      "     427       1390.85   0.000180788       147.191   1.552e-06       0.001      588  LS failed, Hessian reset \n",
      "     499       1391.65    0.00012591       110.968   1.453e-06       0.001      742  LS failed, Hessian reset \n",
      "    Iter      log prob        ||dx||      ||grad||       alpha      alpha0  # evals  Notes \n",
      "     599       1391.85   4.83505e-06       70.1164      0.5514      0.5514      873   \n",
      "    Iter      log prob        ||dx||      ||grad||       alpha      alpha0  # evals  Notes \n",
      "     612       1391.85   1.75318e-05        77.378   2.338e-07       0.001      928  LS failed, Hessian reset \n",
      "     699       1391.87    2.1648e-05       79.4374           1           1     1030   \n",
      "    Iter      log prob        ||dx||      ||grad||       alpha      alpha0  # evals  Notes \n",
      "     789       1391.88   3.19531e-07       72.6173   3.697e-09       0.001     1194  LS failed, Hessian reset \n",
      "     792       1391.88   8.59148e-08       62.5557      0.7465      0.7465     1197   \n",
      "Optimization terminated normally: \n",
      "  Convergence detected: relative gradient magnitude is below tolerance\n"
     ]
    }
   ],
   "source": [
    "m = Prophet()\n",
    "m.fit(df)"
   ]
  },
  {
   "cell_type": "code",
   "execution_count": 15,
   "metadata": {},
   "outputs": [
    {
     "data": {
      "text/html": [
       "<div>\n",
       "<style scoped>\n",
       "    .dataframe tbody tr th:only-of-type {\n",
       "        vertical-align: middle;\n",
       "    }\n",
       "\n",
       "    .dataframe tbody tr th {\n",
       "        vertical-align: top;\n",
       "    }\n",
       "\n",
       "    .dataframe thead th {\n",
       "        text-align: right;\n",
       "    }\n",
       "</style>\n",
       "<table border=\"1\" class=\"dataframe\">\n",
       "  <thead>\n",
       "    <tr style=\"text-align: right;\">\n",
       "      <th></th>\n",
       "      <th>ds</th>\n",
       "    </tr>\n",
       "  </thead>\n",
       "  <tbody>\n",
       "    <tr>\n",
       "      <th>864</th>\n",
       "      <td>2022-12-26</td>\n",
       "    </tr>\n",
       "    <tr>\n",
       "      <th>865</th>\n",
       "      <td>2022-12-27</td>\n",
       "    </tr>\n",
       "    <tr>\n",
       "      <th>866</th>\n",
       "      <td>2022-12-28</td>\n",
       "    </tr>\n",
       "    <tr>\n",
       "      <th>867</th>\n",
       "      <td>2022-12-29</td>\n",
       "    </tr>\n",
       "    <tr>\n",
       "      <th>868</th>\n",
       "      <td>2022-12-30</td>\n",
       "    </tr>\n",
       "  </tbody>\n",
       "</table>\n",
       "</div>"
      ],
      "text/plain": [
       "            ds\n",
       "864 2022-12-26\n",
       "865 2022-12-27\n",
       "866 2022-12-28\n",
       "867 2022-12-29\n",
       "868 2022-12-30"
      ]
     },
     "execution_count": 15,
     "metadata": {},
     "output_type": "execute_result"
    }
   ],
   "source": [
    "future = m.make_future_dataframe(periods=365)\n",
    "future.tail()"
   ]
  },
  {
   "cell_type": "code",
   "execution_count": 16,
   "metadata": {},
   "outputs": [
    {
     "name": "stderr",
     "output_type": "stream",
     "text": [
      "/home/development/python/DSCC-FP-MVP/.venv/lib/python3.8/site-packages/prophet/forecaster.py:896: FutureWarning: The frame.append method is deprecated and will be removed from pandas in a future version. Use pandas.concat instead.\n",
      "  components = components.append(new_comp)\n",
      "/home/development/python/DSCC-FP-MVP/.venv/lib/python3.8/site-packages/prophet/forecaster.py:896: FutureWarning: The frame.append method is deprecated and will be removed from pandas in a future version. Use pandas.concat instead.\n",
      "  components = components.append(new_comp)\n"
     ]
    },
    {
     "data": {
      "text/html": [
       "<div>\n",
       "<style scoped>\n",
       "    .dataframe tbody tr th:only-of-type {\n",
       "        vertical-align: middle;\n",
       "    }\n",
       "\n",
       "    .dataframe tbody tr th {\n",
       "        vertical-align: top;\n",
       "    }\n",
       "\n",
       "    .dataframe thead th {\n",
       "        text-align: right;\n",
       "    }\n",
       "</style>\n",
       "<table border=\"1\" class=\"dataframe\">\n",
       "  <thead>\n",
       "    <tr style=\"text-align: right;\">\n",
       "      <th></th>\n",
       "      <th>ds</th>\n",
       "      <th>yhat</th>\n",
       "      <th>yhat_lower</th>\n",
       "      <th>yhat_upper</th>\n",
       "    </tr>\n",
       "  </thead>\n",
       "  <tbody>\n",
       "    <tr>\n",
       "      <th>864</th>\n",
       "      <td>2022-12-26</td>\n",
       "      <td>229.057858</td>\n",
       "      <td>177.882228</td>\n",
       "      <td>280.449665</td>\n",
       "    </tr>\n",
       "    <tr>\n",
       "      <th>865</th>\n",
       "      <td>2022-12-27</td>\n",
       "      <td>229.759785</td>\n",
       "      <td>175.650258</td>\n",
       "      <td>279.997520</td>\n",
       "    </tr>\n",
       "    <tr>\n",
       "      <th>866</th>\n",
       "      <td>2022-12-28</td>\n",
       "      <td>230.000652</td>\n",
       "      <td>177.710225</td>\n",
       "      <td>281.179829</td>\n",
       "    </tr>\n",
       "    <tr>\n",
       "      <th>867</th>\n",
       "      <td>2022-12-29</td>\n",
       "      <td>230.047054</td>\n",
       "      <td>177.077766</td>\n",
       "      <td>281.078240</td>\n",
       "    </tr>\n",
       "    <tr>\n",
       "      <th>868</th>\n",
       "      <td>2022-12-30</td>\n",
       "      <td>229.722102</td>\n",
       "      <td>176.274784</td>\n",
       "      <td>280.487888</td>\n",
       "    </tr>\n",
       "  </tbody>\n",
       "</table>\n",
       "</div>"
      ],
      "text/plain": [
       "            ds        yhat  yhat_lower  yhat_upper\n",
       "864 2022-12-26  229.057858  177.882228  280.449665\n",
       "865 2022-12-27  229.759785  175.650258  279.997520\n",
       "866 2022-12-28  230.000652  177.710225  281.179829\n",
       "867 2022-12-29  230.047054  177.077766  281.078240\n",
       "868 2022-12-30  229.722102  176.274784  280.487888"
      ]
     },
     "execution_count": 16,
     "metadata": {},
     "output_type": "execute_result"
    }
   ],
   "source": [
    "forecast = m.predict(future)\n",
    "forecast[['ds', 'yhat', 'yhat_lower', 'yhat_upper']].tail()"
   ]
  },
  {
   "cell_type": "code",
   "execution_count": 17,
   "metadata": {},
   "outputs": [
    {
     "data": {
      "image/png": "[encoded data removed]",
      "text/plain": [
       "<Figure size 720x432 with 1 Axes>"
      ]
     },
     "metadata": {},
     "output_type": "display_data"
    }
   ],
   "source": [
    "fig1 = m.plot(forecast)"
   ]
  },
  {
   "cell_type": "markdown",
   "metadata": {},
   "source": [
    "Modelling"
   ]
  },
  {
   "cell_type": "code",
   "execution_count": 7,
   "metadata": {},
   "outputs": [],
   "source": [
    "import datetime as dt\n",
    "import json\n",
    "from typing import List, Optional\n",
    "import pymongo\n",
    "from pandas import DataFrame\n",
    "import pandas as pd"
   ]
  },
  {
   "cell_type": "code",
   "execution_count": 3,
   "metadata": {},
   "outputs": [],
   "source": [
    "with open('DSCC-FP-MVP-Configuration.JSON') as f:\n",
    "   configuration = json.load(f)\n",
    "\n",
    "client = pymongo.MongoClient(configuration['mongo_uri'])\n",
    "db = client[configuration['database_name']]"
   ]
  },
  {
   "cell_type": "code",
   "execution_count": 4,
   "metadata": {},
   "outputs": [],
   "source": [
    "def fetch_stock_data_from_db(stock_name: str, start_date: Optional[str] = None, end_date: Optional[str] = None) -> List[object]:\n",
    "    \"\"\"Retrieve the stock data from MongoDb collection\n",
    "\n",
    "    Args:\n",
    "        stock_name (str): Stock Name\n",
    "        start_date (Optional[str], optional): Start date to filter records. Defaults to None.\n",
    "        end_date (Optional[str], optional): End date to filter records. Defaults to None.\n",
    "\n",
    "    Returns:\n",
    "        List[object]: List of dictionaries\n",
    "    \"\"\"\n",
    "    if start_date and end_date:\n",
    "        search_query = {\n",
    "            \"stock\": stock_name,\n",
    "            \"Date\": {\n",
    "                '$gte':  dt.datetime.strptime(start_date, '%Y-%m-%d'),\n",
    "                '$lt': dt.datetime.strptime(end_date, '%Y-%m-%d') + dt.timedelta(1)\n",
    "            }\n",
    "        }\n",
    "    else:\n",
    "        search_query = {\n",
    "            \"stock\": stock_name,\n",
    "        }\n",
    "    records = db.stock_price.find(search_query).sort('Date', pymongo.ASCENDING)\n",
    "    output = [record for record in records]\n",
    "    return output"
   ]
  },
  {
   "cell_type": "code",
   "execution_count": 5,
   "metadata": {},
   "outputs": [],
   "source": [
    "stockList = ['AAPL', 'SMSN.IL']"
   ]
  },
  {
   "cell_type": "code",
   "execution_count": 11,
   "metadata": {},
   "outputs": [
    {
     "data": {
      "text/plain": [
       "{'AAPL':                                  _id        Open        High         Low  \\\n",
       " Date                                                                       \n",
       " 2018-01-02  62321305fa9d1ca586e2434b   42.540001   43.075001   42.314999   \n",
       " 2018-01-03  62321305fa9d1ca586e2434c   43.132500   43.637501   42.990002   \n",
       " 2018-01-04  62321305fa9d1ca586e2434d   43.134998   43.367500   43.020000   \n",
       " 2018-01-05  62321305fa9d1ca586e2434e   43.360001   43.842499   43.262501   \n",
       " 2018-01-08  62321305fa9d1ca586e2434f   43.587502   43.902500   43.482498   \n",
       " ...                              ...         ...         ...         ...   \n",
       " 2021-12-23  620e48e0bc1497d03f99eba3  175.850006  176.850006  175.270004   \n",
       " 2021-12-27  620e48e0bc1497d03f99eba4  177.089996  180.419998  177.070007   \n",
       " 2021-12-28  620e48e0bc1497d03f99eba5  180.160004  181.330002  178.529999   \n",
       " 2021-12-29  620e48e0bc1497d03f99eba6  179.330002  180.630005  178.139999   \n",
       " 2021-12-30  620e48e0bc1497d03f99eba7  179.470001  180.570007  178.089996   \n",
       " \n",
       "                  Close   Adj Close     Volume stock  \n",
       " Date                                                 \n",
       " 2018-01-02   43.064999   41.135757  102223600  AAPL  \n",
       " 2018-01-03   43.057499   41.128586  118071600  AAPL  \n",
       " 2018-01-04   43.257500   41.319633   89738400  AAPL  \n",
       " 2018-01-05   43.750000   41.790070   94640000  AAPL  \n",
       " 2018-01-08   43.587502   41.634853   82271200  AAPL  \n",
       " ...                ...         ...        ...   ...  \n",
       " 2021-12-23  176.279999  176.055695   68356600  AAPL  \n",
       " 2021-12-27  180.330002  180.100540   74919600  AAPL  \n",
       " 2021-12-28  179.289993  179.061859   79144300  AAPL  \n",
       " 2021-12-29  179.380005  179.151749   62348900  AAPL  \n",
       " 2021-12-30  178.199997  177.973251   59773000  AAPL  \n",
       " \n",
       " [1005 rows x 8 columns],\n",
       " 'SMSN.IL':                                  _id    Open    High     Low   Close  \\\n",
       " Date                                                                   \n",
       " 2018-01-02  62321264e3ba0233e9f7a4cb  1200.0  1215.0  1193.0  1210.0   \n",
       " 2018-01-03  62321264e3ba0233e9f7a4cc  1221.0  1232.0  1211.0  1223.0   \n",
       " 2018-01-04  62321264e3ba0233e9f7a4cd  1199.0  1212.0  1199.0  1208.0   \n",
       " 2018-01-05  62321264e3ba0233e9f7a4ce  1233.0  1235.0  1222.0  1235.0   \n",
       " 2018-01-08  62321264e3ba0233e9f7a4cf  1223.0  1223.0  1216.0  1218.0   \n",
       " ...                              ...     ...     ...     ...     ...   \n",
       " 2021-12-22  62321264e3ba0233e9f7a8ba  1658.0  1674.0  1650.0  1674.0   \n",
       " 2021-12-23  62321264e3ba0233e9f7a8bb  1686.0  1690.5  1676.0  1687.0   \n",
       " 2021-12-24  62321264e3ba0233e9f7a8bc  1690.5  1698.5  1688.5  1695.5   \n",
       " 2021-12-29  62321264e3ba0233e9f7a8bd  1654.0  1669.0  1651.5  1664.5   \n",
       " 2021-12-30  62321264e3ba0233e9f7a8be  1664.0  1664.0  1635.0  1653.5   \n",
       " \n",
       "               Adj Close  Volume    stock  \n",
       " Date                                      \n",
       " 2018-01-02  1075.433105   14231  SMSN.IL  \n",
       " 2018-01-03  1086.987549   27832  SMSN.IL  \n",
       " 2018-01-04  1073.655640   13906  SMSN.IL  \n",
       " 2018-01-05  1097.652588   18199  SMSN.IL  \n",
       " 2018-01-08  1082.543457   17263  SMSN.IL  \n",
       " ...                 ...     ...      ...  \n",
       " 2021-12-22  1674.000000   14624  SMSN.IL  \n",
       " 2021-12-23  1687.000000   18058  SMSN.IL  \n",
       " 2021-12-24  1695.500000    1487  SMSN.IL  \n",
       " 2021-12-29  1664.500000   27410  SMSN.IL  \n",
       " 2021-12-30  1653.500000   15501  SMSN.IL  \n",
       " \n",
       " [1012 rows x 8 columns]}"
      ]
     },
     "execution_count": 11,
     "metadata": {},
     "output_type": "execute_result"
    }
   ],
   "source": [
    "df_ = {}\n",
    "for i in stockList:\n",
    "    df_[i] = pd.DataFrame(fetch_stock_data_from_db(i))\n",
    "    df_[i].set_index(\"Date\", inplace=True)\n",
    "    df_[i].index = pd.to_datetime(df_[i].index)\n",
    "df_"
   ]
  },
  {
   "cell_type": "code",
   "execution_count": 12,
   "metadata": {},
   "outputs": [
    {
     "name": "stdout",
     "output_type": "stream",
     "text": [
      "AAPL (1005, 8)\n",
      "SMSN.IL (1012, 8)\n"
     ]
    }
   ],
   "source": [
    "for i in stockList:\n",
    "    print(i, df_[i].shape)"
   ]
  }
 ],
 "metadata": {
  "interpreter": {
   "hash": "539a2e0e9afdff07a8cd118e403d249391759ec0c12ba256613acddb9b18cb24"
  },
  "kernelspec": {
   "display_name": "Python 3.8.10 ('.venv': venv)",
   "language": "python",
   "name": "python3"
  },
  "language_info": {
   "codemirror_mode": {
    "name": "ipython",
    "version": 3
   },
   "file_extension": ".py",
   "mimetype": "text/x-python",
   "name": "python",
   "nbconvert_exporter": "python",
   "pygments_lexer": "ipython3",
   "version": "3.8.10"
  },
  "orig_nbformat": 4
 },
 "nbformat": 4,
 "nbformat_minor": 2
}
